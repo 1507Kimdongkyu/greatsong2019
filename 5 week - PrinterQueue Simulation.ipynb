{
 "cells": [
  {
   "cell_type": "code",
   "execution_count": null,
   "metadata": {},
   "outputs": [],
   "source": [
    "class PrinterQueue : \n",
    "    def __init__(self) :\n",
    "        self.items = []\n",
    "        self.tasks = 0\n",
    "        self.total = 0\n",
    "    def enqueue(self, item) :\n",
    "        self.tasks += 1\n",
    "        self.total += item.page\n",
    "        self.items.insert(0, item)\n",
    "    def dequeue(self) :\n",
    "        a = self.items.pop()\n",
    "        self.tasks -= 1\n",
    "        self.total -= a.page\n",
    "        return a\n",
    "    def isEmpty(self) :\n",
    "        return self.items == []\n",
    "    def size(self) :\n",
    "        return len(self.items)\n",
    "    def info(self) :\n",
    "        print('현재 대기 중인 사람은',self.tasks,'명이고,\\\n",
    "        예상 대기 소요시간은',self.total * 0.1,'seconds 입니다.')"
   ]
  },
  {
   "cell_type": "code",
   "execution_count": null,
   "metadata": {},
   "outputs": [],
   "source": [
    "class Print : \n",
    "    def __init__(self, name, pages) :\n",
    "        self.name = name\n",
    "        self.page = pages"
   ]
  },
  {
   "cell_type": "code",
   "execution_count": null,
   "metadata": {},
   "outputs": [],
   "source": [
    "p = PrinterQueue()"
   ]
  },
  {
   "cell_type": "code",
   "execution_count": null,
   "metadata": {},
   "outputs": [],
   "source": [
    "import random\n",
    "for i in range(10) :\n",
    "    a = random.choice(['루피','쵸파','상디','나미','조로','우솝'])\n",
    "    b = random.randint(1,30)\n",
    "    p.enqueue(Print(a, b))"
   ]
  },
  {
   "cell_type": "code",
   "execution_count": null,
   "metadata": {},
   "outputs": [],
   "source": [
    "p.info()"
   ]
  },
  {
   "cell_type": "code",
   "execution_count": null,
   "metadata": {},
   "outputs": [],
   "source": [
    "import time\n",
    "while not p.isEmpty() :\n",
    "    a = p.dequeue()\n",
    "    print(a.name,'님의 출력이 시작되었습니다.\\\n",
    "    예상 소요시간은',round(a.page*0.1,2),'초입니다.')\n",
    "    time.sleep(a.page * 0.1)\n",
    "    print(a.name,'님의 출력이 완료되었습니다.')"
   ]
  },
  {
   "cell_type": "code",
   "execution_count": null,
   "metadata": {},
   "outputs": [],
   "source": [
    "while not p.isEmpty() :\n",
    "    a  = p.dequeue()\n",
    "    print(a.name, a.page)"
   ]
  }
 ],
 "metadata": {
  "kernelspec": {
   "display_name": "Python 3",
   "language": "python",
   "name": "python3"
  },
  "language_info": {
   "codemirror_mode": {
    "name": "ipython",
    "version": 3
   },
   "file_extension": ".py",
   "mimetype": "text/x-python",
   "name": "python",
   "nbconvert_exporter": "python",
   "pygments_lexer": "ipython3",
   "version": "3.7.1"
  }
 },
 "nbformat": 4,
 "nbformat_minor": 2
}
